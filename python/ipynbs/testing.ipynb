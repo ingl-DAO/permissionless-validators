{
 "cells": [
  {
   "cell_type": "code",
   "execution_count": 1,
   "metadata": {},
   "outputs": [],
   "source": [
    "from solana.rpc.async_api import AsyncClient\n",
    "from solders.pubkey import Pubkey\n",
    "from solana.transaction import Transaction\n",
    "from solders.system_program import transfer, TransferParams\n",
    "from solders.keypair import Keypair\n",
    "from solana.rpc.commitment import Finalized\n",
    "import json\n",
    "\n",
    "client = AsyncClient(\"https://young-wiser-moon.solana-devnet.discover.quiknode.pro/2fd1c8258ab1fb9fe5d390c58d5da5b1c5b6651f/\")\n",
    "# client_state = client.is_connected()\n",
    "# print(\"Client is connected\" if client_state else \"Client is Disconnected\")\n",
    "\n",
    "\n",
    "def keypair_from_json(filepath) -> Keypair:\n",
    "    keypair = Keypair.from_bytes(json.load(open(filepath)))\n",
    "    return keypair\n",
    "# client.get_balance(Pubkey.from_string(\"CNPmqo8j3WZy4Rxq9nit5jUhcGYM1oVzMVmqvctEzDbp\"))\n"
   ]
  },
  {
   "cell_type": "code",
   "execution_count": 3,
   "metadata": {},
   "outputs": [
    {
     "data": {
      "text/plain": [
       "SendTransactionResp(\n",
       "    Signature(\n",
       "        2GHx6SoUStXd6pdjLQfKcjmvpfRxWucHZYfM5qgF3sqP7vC574eb9PN1wSSHF6smkxv3waUQTJRmp2WhP69Ha88H,\n",
       "    ),\n",
       ")"
      ]
     },
     "execution_count": 3,
     "metadata": {},
     "output_type": "execute_result"
    }
   ],
   "source": [
    "\n",
    "payer = keypair_from_json('../../../ingl-env/keypair.json')\n",
    "vote_account = keypair_from_json('../../../local-env/vote-account.json')\n",
    "transfer_params = TransferParams(\n",
    "    from_pubkey=vote_account.pubkey(),\n",
    "    to_pubkey=payer.pubkey(),\n",
    "    lamports=1_000_000,\n",
    ")\n",
    "\n",
    "ix = transfer(transfer_params)\n",
    "\n",
    "tx = Transaction().add(ix)\n",
    "tx.fee_payer = payer.pubkey()\n",
    "blockhash_resp = await client.get_latest_blockhash(Finalized)\n",
    "recent_blockhash = client.parse_recent_blockhash(blockhash_resp)\n",
    "# last_valid_block_height = blockhash_resp.value.last_valid_block_height\n",
    "await client.send_transaction(tx, payer, vote_account)\n",
    "\n"
   ]
  },
  {
   "cell_type": "code",
   "execution_count": null,
   "metadata": {},
   "outputs": [
    {
     "data": {
      "text/plain": [
       "Pubkey(\n",
       "    8aB9MJtmbTtMRPcpZPyQy3jVCDZseDnr3fvwmLqWbgL1,\n",
       ")"
      ]
     },
     "execution_count": 5,
     "metadata": {},
     "output_type": "execute_result"
    }
   ],
   "source": [
    "keypair_from_json('../../../ingl-env/keypair.json').pubkey()"
   ]
  },
  {
   "cell_type": "code",
   "execution_count": 16,
   "metadata": {},
   "outputs": [
    {
     "data": {
      "text/plain": [
       "(114.0, 111, 88.0, 237.5, 15.411035007422441)"
      ]
     },
     "execution_count": 16,
     "metadata": {},
     "output_type": "execute_result"
    }
   ],
   "source": [
    "girls = [122,94,135,111,108]\n",
    "mean = sum(girls)/len(girls)\n",
    "median = sorted(girls)[len(girls)//2]\n",
    "midrange = (max(girls) - min(girls) / 2)\n",
    "variance = sum([(i - mean)**2 for i in girls]) / (len(girls) - 1)\n",
    "standard_deviation = variance**0.5\n",
    "mean, median, midrange, variance, standard_deviation"
   ]
  },
  {
   "cell_type": "code",
   "execution_count": 19,
   "metadata": {},
   "outputs": [
    {
     "data": {
      "text/plain": [
       "(77.7, 8.442374323051917, 37)"
      ]
     },
     "execution_count": 19,
     "metadata": {},
     "output_type": "execute_result"
    }
   ],
   "source": [
    "scores = [57, 66, 69, 71, 72, 73, 74, 77, 78, 78, 79, 79, 81, 81, 82, 83, 83, 88, 89, 94]\n",
    "mean = sum(scores)/len(scores)\n",
    "standard_deviation = (sum([(i - mean)**2 for i in scores]) / (len(scores) - 1))**0.5\n",
    "t_range = max(scores) - min(scores)\n",
    "mean, standard_deviation, t_range"
   ]
  }
 ],
 "metadata": {
  "kernelspec": {
   "display_name": "Python 3",
   "language": "python",
   "name": "python3"
  },
  "language_info": {
   "codemirror_mode": {
    "name": "ipython",
    "version": 3
   },
   "file_extension": ".py",
   "mimetype": "text/x-python",
   "name": "python",
   "nbconvert_exporter": "python",
   "pygments_lexer": "ipython3",
   "version": "3.10.7"
  },
  "orig_nbformat": 4,
  "vscode": {
   "interpreter": {
    "hash": "369f2c481f4da34e4445cda3fffd2e751bd1c4d706f27375911949ba6bb62e1c"
   }
  }
 },
 "nbformat": 4,
 "nbformat_minor": 2
}
