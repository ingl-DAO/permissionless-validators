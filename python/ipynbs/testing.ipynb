{
 "cells": [
  {
   "cell_type": "code",
   "execution_count": 1,
   "metadata": {},
   "outputs": [],
   "source": [
    "from solana.rpc.async_api import AsyncClient\n",
    "from solders.pubkey import Pubkey\n",
    "from solana.transaction import Transaction\n",
    "from solders.system_program import transfer, TransferParams\n",
    "from solders.keypair import Keypair\n",
    "from solana.rpc.commitment import Finalized\n",
    "import json\n",
    "\n",
    "client = AsyncClient(\"https://young-wiser-moon.solana-devnet.discover.quiknode.pro/2fd1c8258ab1fb9fe5d390c58d5da5b1c5b6651f/\")\n",
    "# client_state = client.is_connected()\n",
    "# print(\"Client is connected\" if client_state else \"Client is Disconnected\")\n",
    "\n",
    "\n",
    "def keypair_from_json(filepath) -> Keypair:\n",
    "    keypair = Keypair.from_bytes(json.load(open(filepath)))\n",
    "    return keypair\n",
    "# client.get_balance(Pubkey.from_string(\"CNPmqo8j3WZy4Rxq9nit5jUhcGYM1oVzMVmqvctEzDbp\"))\n"
   ]
  },
  {
   "cell_type": "code",
   "execution_count": 3,
   "metadata": {},
   "outputs": [
    {
     "data": {
      "text/plain": [
       "SendTransactionResp(\n",
       "    Signature(\n",
       "        2GHx6SoUStXd6pdjLQfKcjmvpfRxWucHZYfM5qgF3sqP7vC574eb9PN1wSSHF6smkxv3waUQTJRmp2WhP69Ha88H,\n",
       "    ),\n",
       ")"
      ]
     },
     "execution_count": 3,
     "metadata": {},
     "output_type": "execute_result"
    }
   ],
   "source": [
    "\n",
    "payer = keypair_from_json('../../../ingl-env/keypair.json')\n",
    "vote_account = keypair_from_json('../../../local-env/vote-account.json')\n",
    "transfer_params = TransferParams(\n",
    "    from_pubkey=vote_account.pubkey(),\n",
    "    to_pubkey=payer.pubkey(),\n",
    "    lamports=1_000_000,\n",
    ")\n",
    "\n",
    "ix = transfer(transfer_params)\n",
    "\n",
    "tx = Transaction().add(ix)\n",
    "tx.fee_payer = payer.pubkey()\n",
    "blockhash_resp = await client.get_latest_blockhash(Finalized)\n",
    "recent_blockhash = client.parse_recent_blockhash(blockhash_resp)\n",
    "# last_valid_block_height = blockhash_resp.value.last_valid_block_height\n",
    "await client.send_transaction(tx, payer, vote_account)\n",
    "\n"
   ]
  },
  {
   "cell_type": "code",
   "execution_count": null,
   "metadata": {},
   "outputs": [
    {
     "data": {
      "text/plain": [
       "Pubkey(\n",
       "    8aB9MJtmbTtMRPcpZPyQy3jVCDZseDnr3fvwmLqWbgL1,\n",
       ")"
      ]
     },
     "execution_count": 5,
     "metadata": {},
     "output_type": "execute_result"
    }
   ],
   "source": [
    "keypair_from_json('../../../ingl-env/keypair.json').pubkey()"
   ]
  }
 ],
 "metadata": {
  "kernelspec": {
   "display_name": "Python 3",
   "language": "python",
   "name": "python3"
  },
  "language_info": {
   "codemirror_mode": {
    "name": "ipython",
    "version": 3
   },
   "file_extension": ".py",
   "mimetype": "text/x-python",
   "name": "python",
   "nbconvert_exporter": "python",
   "pygments_lexer": "ipython3",
   "version": "3.10.7"
  },
  "orig_nbformat": 4,
  "vscode": {
   "interpreter": {
    "hash": "369f2c481f4da34e4445cda3fffd2e751bd1c4d706f27375911949ba6bb62e1c"
   }
  }
 },
 "nbformat": 4,
 "nbformat_minor": 2
}
